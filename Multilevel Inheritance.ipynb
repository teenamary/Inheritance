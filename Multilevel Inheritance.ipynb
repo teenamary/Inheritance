{
 "cells": [
  {
   "cell_type": "code",
   "execution_count": 1,
   "metadata": {},
   "outputs": [
    {
     "name": "stdout",
     "output_type": "stream",
     "text": [
      "John\n",
      "30\n",
      "102\n",
      "67\n",
      "None\n",
      "89\n"
     ]
    }
   ],
   "source": [
    "class youth:    \n",
    "    def __init__(self, youthName, youthAge):  \n",
    "        self.name = youthName  \n",
    "        self.age = youthAge  \n",
    "  \n",
    "    \n",
    "    def showName(self):  \n",
    "        print(self.name)  \n",
    "  \n",
    "    def showAge(self):  \n",
    "        print(self.age)  \n",
    "    \n",
    "class Student(youth):   \n",
    "    def __init__(self, studentId):\n",
    "        self.name = youthName  \n",
    "        self.age = youthAge\n",
    "        self.studentId = studentId  \n",
    "  \n",
    "    def getId(self):  \n",
    "        return self.studentId  \n",
    "  \n",
    "  \n",
    "class credits(Student):\n",
    "    def __init__(self, creditNo):  \n",
    "        self.creditNo = creditNo \n",
    "    def getId(self):  \n",
    "        return self.creditNo  \n",
    "        \n",
    "        \n",
    "        \n",
    "    def __init__(self, name, age, Id,no):  \n",
    "        \n",
    "        \n",
    "        self.name = name  \n",
    "        self.age = age\n",
    "        self.studentId = Id \n",
    "        self.creditNo = no\n",
    "  \n",
    " \n",
    "c1 = credits('John', 30, 102,67)  \n",
    "print(c1.name) \n",
    "print(c1.age)\n",
    "print(c1.studentId)\n",
    "print(c1.creditNo)\n",
    "print(c1.__init__(\"asha\",67,89,89))\n",
    "print(c1.getId())"
   ]
  },
  {
   "cell_type": "code",
   "execution_count": null,
   "metadata": {},
   "outputs": [],
   "source": []
  }
 ],
 "metadata": {
  "kernelspec": {
   "display_name": "Python 3",
   "language": "python",
   "name": "python3"
  },
  "language_info": {
   "codemirror_mode": {
    "name": "ipython",
    "version": 3
   },
   "file_extension": ".py",
   "mimetype": "text/x-python",
   "name": "python",
   "nbconvert_exporter": "python",
   "pygments_lexer": "ipython3",
   "version": "3.7.3"
  }
 },
 "nbformat": 4,
 "nbformat_minor": 2
}
